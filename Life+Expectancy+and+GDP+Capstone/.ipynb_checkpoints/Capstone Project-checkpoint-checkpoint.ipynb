{
 "cells": [
  {
   "cell_type": "markdown",
   "metadata": {},
   "source": [
    "# Introduction\n",
    "\n",
    "For this project, you will act as a data researcher for the **I**nternational **H**eadquarter of **E**mpathy **A**nd **L**ogic (**IHEAL**) . You will be helping them analyze data on GDP and life expectancy from the World Health Organization and the World Bank to support their case that there is a correlation or pattern between the GDP and life expectancy of a country.\n",
    "\n",
    "To quote the Vice President of Intuition and Systems at **IHEAL:**\n",
    "\n",
    "> \"We know in our hearts and minds that there is an unjust connection between the wealth of a nation, and the life of its people, but we can't get buy in from the people in power without the data to support this.\"\n",
    "\n",
    "During this project, you will analyze, prepare, and plot data,  and seek to answer questions in a meaningful way.\n",
    "\n",
    "After you perform analysis, you'll be creating a blog post to share on the **IHEAL** website.\n",
    "\n",
    "**BIG Question**: Is there a correlation between GDP and life expectancy of a country?\n",
    "\n",
    "GDP Source:[World Bank](https://data.worldbank.org/indicator/NY.GDP.MKTP.CD)national accounts data, and OECD National Accounts data files.\n",
    "\n",
    "Life expectancy Data Source: [World Health Organization](vhttp://apps.who.int/gho/data/node.main.688)\n"
   ]
  },
  {
   "cell_type": "markdown",
   "metadata": {},
   "source": [
    "## Step 1"
   ]
  },
  {
   "cell_type": "markdown",
   "metadata": {},
   "source": [
    "Import the modules that you'll be using in this project:\n",
    "- `from matplotlib import pyplot as plt`\n",
    "- `import pandas as pd`\n",
    "- `import seaborn as sns`"
   ]
  },
  {
   "cell_type": "code",
   "execution_count": 1,
   "metadata": {},
   "outputs": [],
   "source": [
    "from matplotlib import pyplot as plt\n",
    "import pandas as pd\n",
    "import seaborn as sns"
   ]
  },
  {
   "cell_type": "markdown",
   "metadata": {},
   "source": [
    "## Step 2"
   ]
  },
  {
   "cell_type": "markdown",
   "metadata": {},
   "source": [
    "Load the dataset and inspect it:"
   ]
  },
  {
   "cell_type": "markdown",
   "metadata": {},
   "source": [
    "Load **gdp_data_washed.csv** into a DataFrame called `gdp`. Then, quickly inspect the DataFrame using `.head()`.\n",
    "\n",
    "(Hint: Use the `pd.read_csv()`function).\n"
   ]
  },
  {
   "cell_type": "code",
   "execution_count": 5,
   "metadata": {},
   "outputs": [
    {
     "data": {
      "text/html": [
       "<div>\n",
       "<style scoped>\n",
       "    .dataframe tbody tr th:only-of-type {\n",
       "        vertical-align: middle;\n",
       "    }\n",
       "\n",
       "    .dataframe tbody tr th {\n",
       "        vertical-align: top;\n",
       "    }\n",
       "\n",
       "    .dataframe thead th {\n",
       "        text-align: right;\n",
       "    }\n",
       "</style>\n",
       "<table border=\"1\" class=\"dataframe\">\n",
       "  <thead>\n",
       "    <tr style=\"text-align: right;\">\n",
       "      <th></th>\n",
       "      <th>Country Name</th>\n",
       "      <th>Country Code</th>\n",
       "      <th>Indicator Name</th>\n",
       "      <th>Indicator Code</th>\n",
       "      <th>1960</th>\n",
       "      <th>1961</th>\n",
       "      <th>1962</th>\n",
       "      <th>1963</th>\n",
       "      <th>1964</th>\n",
       "      <th>1965</th>\n",
       "      <th>...</th>\n",
       "      <th>2009</th>\n",
       "      <th>2010</th>\n",
       "      <th>2011</th>\n",
       "      <th>2012</th>\n",
       "      <th>2013</th>\n",
       "      <th>2014</th>\n",
       "      <th>2015</th>\n",
       "      <th>2016</th>\n",
       "      <th>2017</th>\n",
       "      <th>2018</th>\n",
       "    </tr>\n",
       "  </thead>\n",
       "  <tbody>\n",
       "    <tr>\n",
       "      <th>0</th>\n",
       "      <td>Aruba</td>\n",
       "      <td>ABW</td>\n",
       "      <td>GDP (current US$)</td>\n",
       "      <td>NY.GDP.MKTP.CD</td>\n",
       "      <td>NaN</td>\n",
       "      <td>NaN</td>\n",
       "      <td>NaN</td>\n",
       "      <td>NaN</td>\n",
       "      <td>NaN</td>\n",
       "      <td>NaN</td>\n",
       "      <td>...</td>\n",
       "      <td>2.498883e+09</td>\n",
       "      <td>2.390503e+09</td>\n",
       "      <td>2.549721e+09</td>\n",
       "      <td>2.534637e+09</td>\n",
       "      <td>2.581564e+09</td>\n",
       "      <td>2.649721e+09</td>\n",
       "      <td>2.691620e+09</td>\n",
       "      <td>2.646927e+09</td>\n",
       "      <td>2.700559e+09</td>\n",
       "      <td>NaN</td>\n",
       "    </tr>\n",
       "    <tr>\n",
       "      <th>1</th>\n",
       "      <td>Afghanistan</td>\n",
       "      <td>AFG</td>\n",
       "      <td>GDP (current US$)</td>\n",
       "      <td>NY.GDP.MKTP.CD</td>\n",
       "      <td>537777811.1</td>\n",
       "      <td>548888895.6</td>\n",
       "      <td>546666677.8</td>\n",
       "      <td>751111191.1</td>\n",
       "      <td>800000044.4</td>\n",
       "      <td>1.006667e+09</td>\n",
       "      <td>...</td>\n",
       "      <td>1.243909e+10</td>\n",
       "      <td>1.585657e+10</td>\n",
       "      <td>1.780428e+10</td>\n",
       "      <td>2.000162e+10</td>\n",
       "      <td>2.056105e+10</td>\n",
       "      <td>2.048487e+10</td>\n",
       "      <td>1.990711e+10</td>\n",
       "      <td>1.936264e+10</td>\n",
       "      <td>2.019176e+10</td>\n",
       "      <td>1.936297e+10</td>\n",
       "    </tr>\n",
       "    <tr>\n",
       "      <th>2</th>\n",
       "      <td>Angola</td>\n",
       "      <td>AGO</td>\n",
       "      <td>GDP (current US$)</td>\n",
       "      <td>NY.GDP.MKTP.CD</td>\n",
       "      <td>NaN</td>\n",
       "      <td>NaN</td>\n",
       "      <td>NaN</td>\n",
       "      <td>NaN</td>\n",
       "      <td>NaN</td>\n",
       "      <td>NaN</td>\n",
       "      <td>...</td>\n",
       "      <td>7.030716e+10</td>\n",
       "      <td>8.379950e+10</td>\n",
       "      <td>1.120000e+11</td>\n",
       "      <td>1.280000e+11</td>\n",
       "      <td>1.370000e+11</td>\n",
       "      <td>1.460000e+11</td>\n",
       "      <td>1.160000e+11</td>\n",
       "      <td>1.010000e+11</td>\n",
       "      <td>1.220000e+11</td>\n",
       "      <td>1.060000e+11</td>\n",
       "    </tr>\n",
       "    <tr>\n",
       "      <th>3</th>\n",
       "      <td>Albania</td>\n",
       "      <td>ALB</td>\n",
       "      <td>GDP (current US$)</td>\n",
       "      <td>NY.GDP.MKTP.CD</td>\n",
       "      <td>NaN</td>\n",
       "      <td>NaN</td>\n",
       "      <td>NaN</td>\n",
       "      <td>NaN</td>\n",
       "      <td>NaN</td>\n",
       "      <td>NaN</td>\n",
       "      <td>...</td>\n",
       "      <td>1.204422e+10</td>\n",
       "      <td>1.192696e+10</td>\n",
       "      <td>1.289087e+10</td>\n",
       "      <td>1.231978e+10</td>\n",
       "      <td>1.277628e+10</td>\n",
       "      <td>1.322824e+10</td>\n",
       "      <td>1.138693e+10</td>\n",
       "      <td>1.186135e+10</td>\n",
       "      <td>1.302506e+10</td>\n",
       "      <td>1.510250e+10</td>\n",
       "    </tr>\n",
       "    <tr>\n",
       "      <th>4</th>\n",
       "      <td>Andorra</td>\n",
       "      <td>AND</td>\n",
       "      <td>GDP (current US$)</td>\n",
       "      <td>NY.GDP.MKTP.CD</td>\n",
       "      <td>NaN</td>\n",
       "      <td>NaN</td>\n",
       "      <td>NaN</td>\n",
       "      <td>NaN</td>\n",
       "      <td>NaN</td>\n",
       "      <td>NaN</td>\n",
       "      <td>...</td>\n",
       "      <td>3.660531e+09</td>\n",
       "      <td>3.355695e+09</td>\n",
       "      <td>3.442063e+09</td>\n",
       "      <td>3.164615e+09</td>\n",
       "      <td>3.281585e+09</td>\n",
       "      <td>3.350736e+09</td>\n",
       "      <td>2.811489e+09</td>\n",
       "      <td>2.877312e+09</td>\n",
       "      <td>3.013387e+09</td>\n",
       "      <td>3.236544e+09</td>\n",
       "    </tr>\n",
       "  </tbody>\n",
       "</table>\n",
       "<p>5 rows × 63 columns</p>\n",
       "</div>"
      ],
      "text/plain": [
       "  Country Name Country Code     Indicator Name  Indicator Code         1960  \\\n",
       "0        Aruba          ABW  GDP (current US$)  NY.GDP.MKTP.CD          NaN   \n",
       "1  Afghanistan          AFG  GDP (current US$)  NY.GDP.MKTP.CD  537777811.1   \n",
       "2       Angola          AGO  GDP (current US$)  NY.GDP.MKTP.CD          NaN   \n",
       "3      Albania          ALB  GDP (current US$)  NY.GDP.MKTP.CD          NaN   \n",
       "4      Andorra          AND  GDP (current US$)  NY.GDP.MKTP.CD          NaN   \n",
       "\n",
       "          1961         1962         1963         1964          1965  ...  \\\n",
       "0          NaN          NaN          NaN          NaN           NaN  ...   \n",
       "1  548888895.6  546666677.8  751111191.1  800000044.4  1.006667e+09  ...   \n",
       "2          NaN          NaN          NaN          NaN           NaN  ...   \n",
       "3          NaN          NaN          NaN          NaN           NaN  ...   \n",
       "4          NaN          NaN          NaN          NaN           NaN  ...   \n",
       "\n",
       "           2009          2010          2011          2012          2013  \\\n",
       "0  2.498883e+09  2.390503e+09  2.549721e+09  2.534637e+09  2.581564e+09   \n",
       "1  1.243909e+10  1.585657e+10  1.780428e+10  2.000162e+10  2.056105e+10   \n",
       "2  7.030716e+10  8.379950e+10  1.120000e+11  1.280000e+11  1.370000e+11   \n",
       "3  1.204422e+10  1.192696e+10  1.289087e+10  1.231978e+10  1.277628e+10   \n",
       "4  3.660531e+09  3.355695e+09  3.442063e+09  3.164615e+09  3.281585e+09   \n",
       "\n",
       "           2014          2015          2016          2017          2018  \n",
       "0  2.649721e+09  2.691620e+09  2.646927e+09  2.700559e+09           NaN  \n",
       "1  2.048487e+10  1.990711e+10  1.936264e+10  2.019176e+10  1.936297e+10  \n",
       "2  1.460000e+11  1.160000e+11  1.010000e+11  1.220000e+11  1.060000e+11  \n",
       "3  1.322824e+10  1.138693e+10  1.186135e+10  1.302506e+10  1.510250e+10  \n",
       "4  3.350736e+09  2.811489e+09  2.877312e+09  3.013387e+09  3.236544e+09  \n",
       "\n",
       "[5 rows x 63 columns]"
      ]
     },
     "execution_count": 5,
     "metadata": {},
     "output_type": "execute_result"
    }
   ],
   "source": [
    "gdp = pd.read_csv('gdp_data_washed.csv')\n",
    "gdp.head()"
   ]
  },
  {
   "cell_type": "markdown",
   "metadata": {},
   "source": [
    "Load **life_expectancy_data_washed.csv** into a DataFrame called `life`. Then, quickly inspect the DataFrame using `.head()`."
   ]
  },
  {
   "cell_type": "code",
   "execution_count": 6,
   "metadata": {},
   "outputs": [
    {
     "data": {
      "text/html": [
       "<div>\n",
       "<style scoped>\n",
       "    .dataframe tbody tr th:only-of-type {\n",
       "        vertical-align: middle;\n",
       "    }\n",
       "\n",
       "    .dataframe tbody tr th {\n",
       "        vertical-align: top;\n",
       "    }\n",
       "\n",
       "    .dataframe thead th {\n",
       "        text-align: right;\n",
       "    }\n",
       "</style>\n",
       "<table border=\"1\" class=\"dataframe\">\n",
       "  <thead>\n",
       "    <tr style=\"text-align: right;\">\n",
       "      <th></th>\n",
       "      <th>Unnamed: 0</th>\n",
       "      <th>Unnamed: 1</th>\n",
       "      <th>Life expectancy at birth (years)</th>\n",
       "      <th>Life expectancy at birth (years).1</th>\n",
       "      <th>Life expectancy at birth (years).2</th>\n",
       "      <th>Life expectancy at age 60 (years)</th>\n",
       "      <th>Life expectancy at age 60 (years).1</th>\n",
       "      <th>Life expectancy at age 60 (years).2</th>\n",
       "      <th>Healthy life expectancy (HALE) at birth (years)</th>\n",
       "      <th>Healthy life expectancy (HALE) at birth (years).1</th>\n",
       "      <th>Healthy life expectancy (HALE) at birth (years).2</th>\n",
       "      <th>Healthy life expectancy (HALE) at age 60 (years)</th>\n",
       "      <th>Healthy life expectancy (HALE) at age 60 (years).1</th>\n",
       "      <th>Healthy life expectancy (HALE) at age 60 (years).2</th>\n",
       "    </tr>\n",
       "  </thead>\n",
       "  <tbody>\n",
       "    <tr>\n",
       "      <th>0</th>\n",
       "      <td>Country</td>\n",
       "      <td>Year</td>\n",
       "      <td>Both sexes</td>\n",
       "      <td>Male</td>\n",
       "      <td>Female</td>\n",
       "      <td>Both sexes</td>\n",
       "      <td>Male</td>\n",
       "      <td>Female</td>\n",
       "      <td>Both sexes</td>\n",
       "      <td>Male</td>\n",
       "      <td>Female</td>\n",
       "      <td>Both sexes</td>\n",
       "      <td>Male</td>\n",
       "      <td>Female</td>\n",
       "    </tr>\n",
       "    <tr>\n",
       "      <th>1</th>\n",
       "      <td>Afghanistan</td>\n",
       "      <td>2016</td>\n",
       "      <td>62.7</td>\n",
       "      <td>61.0</td>\n",
       "      <td>64.5</td>\n",
       "      <td>16.3</td>\n",
       "      <td>15.5</td>\n",
       "      <td>17.1</td>\n",
       "      <td>53.0</td>\n",
       "      <td>52.1</td>\n",
       "      <td>54.1</td>\n",
       "      <td>11.3</td>\n",
       "      <td>10.9</td>\n",
       "      <td>11.7</td>\n",
       "    </tr>\n",
       "    <tr>\n",
       "      <th>2</th>\n",
       "      <td>Afghanistan</td>\n",
       "      <td>2015</td>\n",
       "      <td>63.2</td>\n",
       "      <td>61.8</td>\n",
       "      <td>64.7</td>\n",
       "      <td>16.3</td>\n",
       "      <td>15.5</td>\n",
       "      <td>17.1</td>\n",
       "      <td>53.2</td>\n",
       "      <td>52.6</td>\n",
       "      <td>54.1</td>\n",
       "      <td>11.2</td>\n",
       "      <td>10.8</td>\n",
       "      <td>11.6</td>\n",
       "    </tr>\n",
       "    <tr>\n",
       "      <th>3</th>\n",
       "      <td>Afghanistan</td>\n",
       "      <td>2014</td>\n",
       "      <td>63.0</td>\n",
       "      <td>61.7</td>\n",
       "      <td>64.4</td>\n",
       "      <td>16.2</td>\n",
       "      <td>15.4</td>\n",
       "      <td>17.0</td>\n",
       "      <td>NaN</td>\n",
       "      <td>NaN</td>\n",
       "      <td>NaN</td>\n",
       "      <td>NaN</td>\n",
       "      <td>NaN</td>\n",
       "      <td>NaN</td>\n",
       "    </tr>\n",
       "    <tr>\n",
       "      <th>4</th>\n",
       "      <td>Afghanistan</td>\n",
       "      <td>2013</td>\n",
       "      <td>62.7</td>\n",
       "      <td>61.5</td>\n",
       "      <td>64.1</td>\n",
       "      <td>16.2</td>\n",
       "      <td>15.4</td>\n",
       "      <td>16.9</td>\n",
       "      <td>NaN</td>\n",
       "      <td>NaN</td>\n",
       "      <td>NaN</td>\n",
       "      <td>NaN</td>\n",
       "      <td>NaN</td>\n",
       "      <td>NaN</td>\n",
       "    </tr>\n",
       "  </tbody>\n",
       "</table>\n",
       "</div>"
      ],
      "text/plain": [
       "    Unnamed: 0 Unnamed: 1 Life expectancy at birth (years)  \\\n",
       "0      Country       Year                       Both sexes   \n",
       "1  Afghanistan       2016                             62.7   \n",
       "2  Afghanistan       2015                             63.2   \n",
       "3  Afghanistan       2014                             63.0   \n",
       "4  Afghanistan       2013                             62.7   \n",
       "\n",
       "  Life expectancy at birth (years).1 Life expectancy at birth (years).2  \\\n",
       "0                               Male                             Female   \n",
       "1                               61.0                               64.5   \n",
       "2                               61.8                               64.7   \n",
       "3                               61.7                               64.4   \n",
       "4                               61.5                               64.1   \n",
       "\n",
       "  Life expectancy at age 60 (years) Life expectancy at age 60 (years).1  \\\n",
       "0                        Both sexes                                Male   \n",
       "1                              16.3                                15.5   \n",
       "2                              16.3                                15.5   \n",
       "3                              16.2                                15.4   \n",
       "4                              16.2                                15.4   \n",
       "\n",
       "  Life expectancy at age 60 (years).2  \\\n",
       "0                              Female   \n",
       "1                                17.1   \n",
       "2                                17.1   \n",
       "3                                17.0   \n",
       "4                                16.9   \n",
       "\n",
       "  Healthy life expectancy (HALE) at birth (years)  \\\n",
       "0                                      Both sexes   \n",
       "1                                            53.0   \n",
       "2                                            53.2   \n",
       "3                                             NaN   \n",
       "4                                             NaN   \n",
       "\n",
       "  Healthy life expectancy (HALE) at birth (years).1  \\\n",
       "0                                              Male   \n",
       "1                                              52.1   \n",
       "2                                              52.6   \n",
       "3                                               NaN   \n",
       "4                                               NaN   \n",
       "\n",
       "  Healthy life expectancy (HALE) at birth (years).2  \\\n",
       "0                                            Female   \n",
       "1                                              54.1   \n",
       "2                                              54.1   \n",
       "3                                               NaN   \n",
       "4                                               NaN   \n",
       "\n",
       "  Healthy life expectancy (HALE) at age 60 (years)  \\\n",
       "0                                       Both sexes   \n",
       "1                                             11.3   \n",
       "2                                             11.2   \n",
       "3                                              NaN   \n",
       "4                                              NaN   \n",
       "\n",
       "  Healthy life expectancy (HALE) at age 60 (years).1  \\\n",
       "0                                               Male   \n",
       "1                                               10.9   \n",
       "2                                               10.8   \n",
       "3                                                NaN   \n",
       "4                                                NaN   \n",
       "\n",
       "  Healthy life expectancy (HALE) at age 60 (years).2  \n",
       "0                                             Female  \n",
       "1                                               11.7  \n",
       "2                                               11.6  \n",
       "3                                                NaN  \n",
       "4                                                NaN  "
      ]
     },
     "execution_count": 6,
     "metadata": {},
     "output_type": "execute_result"
    }
   ],
   "source": [
    "life = pd.read_csv('life_expectancy_washed.csv')\n",
    "life.head()"
   ]
  },
  {
   "cell_type": "markdown",
   "metadata": {},
   "source": [
    "## Step 3"
   ]
  },
  {
   "cell_type": "markdown",
   "metadata": {},
   "source": [
    "Let's learn more about our data. The datasets are large and it may be easier to view the entire dataset locally on your computer. Open the CSV files directly from the folder you downloaded for this project.\n",
    "\n",
    "- GDP stands for **G**ross **D**omestic **P**roduct. GDP is a monetary measure of the market value of all final goods and services produced in a time period. \n",
    "- The GDP values are in current US dollars."
   ]
  },
  {
   "cell_type": "markdown",
   "metadata": {},
   "source": [
    "Answer the following questions by inspecting the data in the file **gdp_data_washed.csv**."
   ]
  },
  {
   "cell_type": "markdown",
   "metadata": {},
   "source": [
    "What five countries are represented in the data?"
   ]
  },
  {
   "cell_type": "code",
   "execution_count": 8,
   "metadata": {},
   "outputs": [
    {
     "data": {
      "text/plain": [
       "array(['Aruba', 'Afghanistan', 'Angola', 'Albania', 'Andorra',\n",
       "       'Arab World', 'United Arab Emirates', 'Argentina', 'Armenia',\n",
       "       'American Samoa', 'Antigua and Barbuda', 'Australia', 'Austria',\n",
       "       'Azerbaijan', 'Burundi', 'Belgium', 'Benin', 'Burkina Faso',\n",
       "       'Bangladesh', 'Bulgaria', 'Bahrain', 'Bahamas, The',\n",
       "       'Bosnia and Herzegovina', 'Belarus', 'Belize', 'Bermuda',\n",
       "       'Bolivia', 'Brazil', 'Barbados', 'Brunei Darussalam', 'Bhutan',\n",
       "       'Botswana', 'Central African Republic', 'Canada',\n",
       "       'Central Europe and the Baltics', 'Switzerland', 'Channel Islands',\n",
       "       'Chile', 'China', \"Cote d'Ivoire\", 'Cameroon', 'Congo, Dem. Rep.',\n",
       "       'Congo, Rep.', 'Colombia', 'Comoros', 'Cabo Verde', 'Costa Rica',\n",
       "       'Caribbean small states', 'Cuba', 'Curacao', 'Cayman Islands',\n",
       "       'Cyprus', 'Czech Republic', 'Germany', 'Djibouti', 'Dominica',\n",
       "       'Denmark', 'Dominican Republic', 'Algeria',\n",
       "       'East Asia & Pacific (excluding high income)',\n",
       "       'Early-demographic dividend', 'East Asia & Pacific',\n",
       "       'Europe & Central Asia (excluding high income)',\n",
       "       'Europe & Central Asia', 'Ecuador', 'Egypt, Arab Rep.',\n",
       "       'Euro area', 'Eritrea', 'Spain', 'Estonia', 'Ethiopia',\n",
       "       'European Union', 'Fragile and conflict affected situations',\n",
       "       'Finland', 'Fiji', 'France', 'Faroe Islands',\n",
       "       'Micronesia, Fed. Sts.', 'Gabon', 'United Kingdom', 'Georgia',\n",
       "       'Ghana', 'Gibraltar', 'Guinea', 'Gambia, The', 'Guinea-Bissau',\n",
       "       'Equatorial Guinea', 'Greece', 'Grenada', 'Greenland', 'Guatemala',\n",
       "       'Guam', 'Guyana', 'High income', 'Hong Kong SAR, China',\n",
       "       'Honduras', 'Heavily indebted poor countries (HIPC)', 'Croatia',\n",
       "       'Haiti', 'Hungary', 'IBRD only', 'IDA & IBRD total', 'IDA total',\n",
       "       'IDA blend', 'Indonesia', 'IDA only', 'Isle of Man', 'India',\n",
       "       'Not classified', 'Ireland', 'Iran, Islamic Rep.', 'Iraq',\n",
       "       'Iceland', 'Israel', 'Italy', 'Jamaica', 'Jordan', 'Japan',\n",
       "       'Kazakhstan', 'Kenya', 'Kyrgyz Republic', 'Cambodia', 'Kiribati',\n",
       "       'St. Kitts and Nevis', 'Korea, Rep.', 'Kuwait',\n",
       "       'Latin America & Caribbean (excluding high income)', 'Lao PDR',\n",
       "       'Lebanon', 'Liberia', 'Libya', 'St. Lucia',\n",
       "       'Latin America & Caribbean',\n",
       "       'Least developed countries: UN classification', 'Low income',\n",
       "       'Liechtenstein', 'Sri Lanka', 'Lower middle income',\n",
       "       'Low & middle income', 'Lesotho', 'Late-demographic dividend',\n",
       "       'Lithuania', 'Luxembourg', 'Latvia', 'Macao SAR, China',\n",
       "       'St. Martin (French part)', 'Morocco', 'Monaco', 'Moldova',\n",
       "       'Madagascar', 'Maldives', 'Middle East & North Africa', 'Mexico',\n",
       "       'Marshall Islands', 'Middle income', 'North Macedonia', 'Mali',\n",
       "       'Malta', 'Myanmar',\n",
       "       'Middle East & North Africa (excluding high income)', 'Montenegro',\n",
       "       'Mongolia', 'Northern Mariana Islands', 'Mozambique', 'Mauritania',\n",
       "       'Mauritius', 'Malawi', 'Malaysia', 'North America', 'Namibia',\n",
       "       'New Caledonia', 'Niger', 'Nigeria', 'Nicaragua', 'Netherlands',\n",
       "       'Norway', 'Nepal', 'Nauru', 'New Zealand', 'OECD members', 'Oman',\n",
       "       'Other small states', 'Pakistan', 'Panama', 'Peru', 'Philippines',\n",
       "       'Palau', 'Papua New Guinea', 'Poland', 'Pre-demographic dividend',\n",
       "       'Puerto Rico', 'Korea, Dem. People’s Rep.', 'Portugal', 'Paraguay',\n",
       "       'West Bank and Gaza', 'Pacific island small states',\n",
       "       'Post-demographic dividend', 'French Polynesia', 'Qatar',\n",
       "       'Romania', 'Russian Federation', 'Rwanda', 'South Asia',\n",
       "       'Saudi Arabia', 'Sudan', 'Senegal', 'Singapore', 'Solomon Islands',\n",
       "       'Sierra Leone', 'El Salvador', 'San Marino', 'Somalia', 'Serbia',\n",
       "       'Sub-Saharan Africa (excluding high income)', 'South Sudan',\n",
       "       'Sub-Saharan Africa', 'Small states', 'Sao Tome and Principe',\n",
       "       'Suriname', 'Slovak Republic', 'Slovenia', 'Sweden', 'Eswatini',\n",
       "       'Sint Maarten (Dutch part)', 'Seychelles', 'Syrian Arab Republic',\n",
       "       'Turks and Caicos Islands', 'Chad',\n",
       "       'East Asia & Pacific (IDA & IBRD countries)',\n",
       "       'Europe & Central Asia (IDA & IBRD countries)', 'Togo', 'Thailand',\n",
       "       'Tajikistan', 'Turkmenistan',\n",
       "       'Latin America & the Caribbean (IDA & IBRD countries)',\n",
       "       'Timor-Leste', 'Middle East & North Africa (IDA & IBRD countries)',\n",
       "       'Tonga', 'South Asia (IDA & IBRD)',\n",
       "       'Sub-Saharan Africa (IDA & IBRD countries)', 'Trinidad and Tobago',\n",
       "       'Tunisia', 'Turkey', 'Tuvalu', 'Tanzania', 'Uganda', 'Ukraine',\n",
       "       'Upper middle income', 'Uruguay', 'United States', 'Uzbekistan',\n",
       "       'St. Vincent and the Grenadines', 'Venezuela, RB',\n",
       "       'British Virgin Islands', 'Virgin Islands (U.S.)', 'Vietnam',\n",
       "       'Vanuatu', 'World', 'Samoa', 'Kosovo', 'Yemen, Rep.',\n",
       "       'South Africa', 'Zambia', 'Zimbabwe'], dtype=object)"
      ]
     },
     "execution_count": 8,
     "metadata": {},
     "output_type": "execute_result"
    }
   ],
   "source": [
    "gdp['Country Name'].unique()"
   ]
  },
  {
   "cell_type": "markdown",
   "metadata": {},
   "source": [
    "What years are represented in the data?"
   ]
  },
  {
   "cell_type": "code",
   "execution_count": null,
   "metadata": {},
   "outputs": [],
   "source": []
  },
  {
   "cell_type": "markdown",
   "metadata": {},
   "source": [
    "Answer the following questions by inspecting the data in the file **life_expectancy_data_washed.csv**."
   ]
  },
  {
   "cell_type": "markdown",
   "metadata": {},
   "source": [
    "Check that the same five countries are represented in the data. \n",
    "\n",
    "Which of the five countries represented in the data, do you think would win in a soccer (futbol) tournament?"
   ]
  },
  {
   "cell_type": "code",
   "execution_count": null,
   "metadata": {},
   "outputs": [],
   "source": []
  },
  {
   "cell_type": "markdown",
   "metadata": {},
   "source": [
    "How many rows are there for each country (careful, this one can be a bit tricky)?"
   ]
  },
  {
   "cell_type": "code",
   "execution_count": null,
   "metadata": {},
   "outputs": [],
   "source": []
  },
  {
   "cell_type": "markdown",
   "metadata": {},
   "source": [
    "What determines the order that each countries row entries are in. (What order are the 'China' entries in?)"
   ]
  },
  {
   "cell_type": "code",
   "execution_count": null,
   "metadata": {},
   "outputs": [],
   "source": []
  },
  {
   "cell_type": "markdown",
   "metadata": {},
   "source": [
    "## Step 4\n",
    "\n",
    "Look at the column names of the DataFrame `life` using `.head()`. "
   ]
  },
  {
   "cell_type": "code",
   "execution_count": null,
   "metadata": {},
   "outputs": [],
   "source": []
  },
  {
   "cell_type": "markdown",
   "metadata": {},
   "source": [
    "What do you notice? The first two column names are one word each, and the third is five whole words long! `Life expectancy at birth (years)` is descriptive, which will be good for labeling the axis, but a little difficult to wrangle for coding the plot itself. \n",
    "\n",
    "Use Pandas to change the name of the last column to `LEABY`.\n",
    "\n",
    "(Hint: Use `.rename()`. [You can read the documentation here](https://pandas.pydata.org/pandas-docs/stable/generated/pandas.DataFrame.rename.html). Make sure to pass ` inplace=True` as the second argument)."
   ]
  },
  {
   "cell_type": "code",
   "execution_count": null,
   "metadata": {},
   "outputs": [],
   "source": []
  },
  {
   "cell_type": "markdown",
   "metadata": {},
   "source": [
    "Run `life.head()` again to check your new column name worked."
   ]
  },
  {
   "cell_type": "code",
   "execution_count": null,
   "metadata": {},
   "outputs": [],
   "source": []
  },
  {
   "cell_type": "markdown",
   "metadata": {},
   "source": [
    "Call `.head()` on the DataFrame `gdp`."
   ]
  },
  {
   "cell_type": "code",
   "execution_count": null,
   "metadata": {},
   "outputs": [],
   "source": []
  },
  {
   "cell_type": "markdown",
   "metadata": {},
   "source": [
    "If you look at the two DataFrames, you can see that the `Year` column is in a different position in each one. It will be easier to work with these DataFrames if they are set up as similarly as possible. \n",
    "\n",
    "Using Pandas rearrange the columns so that `Year` is the second (named) column in `gdp`. Then check your work with `.head()`."
   ]
  },
  {
   "cell_type": "code",
   "execution_count": null,
   "metadata": {},
   "outputs": [],
   "source": []
  },
  {
   "cell_type": "markdown",
   "metadata": {},
   "source": [
    "## Step 5\n",
    "\n",
    "We want to compare the GDPs of the countries over time, in order to eventually look for correlation between GDP and life expectancy. \n",
    "\n",
    "Plot the `gdp` DataFrame on a Seaborn `.pointplot()`\n"
   ]
  },
  {
   "cell_type": "markdown",
   "metadata": {},
   "source": [
    "Start by setting the variables `f, ax` equal to `plt.subplots()`. This will instantiate a figure and give us access to the axes through the variable name `ax`. \n",
    "\n",
    "Then, set the size of the figure to 15x6 by passing `figsize=(15, 6)` to `plt.subplots()`.\n"
   ]
  },
  {
   "cell_type": "markdown",
   "metadata": {},
   "source": [
    "The syntax for a Seaborn point plot is:\n",
    "```python\n",
    "sns.pointplot(x=\"\", y=\"\", hue = \"\", data=)\n",
    "```\n",
    "Create a point plot from the DataFrame `gdp`, using the \"Year\" column for the `x` argument, the \"GDP\" column for the `y` argument, and the \"Country\" column for the `hue` argument. Use the variable `ax` for your plot, like this:\n",
    "```python\n",
    "ax = sns.pointplot()\n",
    "```\n"
   ]
  },
  {
   "cell_type": "code",
   "execution_count": null,
   "metadata": {},
   "outputs": [],
   "source": []
  },
  {
   "cell_type": "markdown",
   "metadata": {},
   "source": [
    "The years across the x-axes are difficult to read because there are so many values. One way to address this issue is to rotate the tick labels. Rotate the x-axes tick labels in your plot using `plt.xticks(rotation=70)`\n",
    "\n",
    "Also set the label of the y-axis using the following line of code:\n",
    "`ax.set(ylabel=\"GDP in Trillions of U.S. Dollars\")`"
   ]
  },
  {
   "cell_type": "code",
   "execution_count": null,
   "metadata": {},
   "outputs": [],
   "source": []
  },
  {
   "cell_type": "markdown",
   "metadata": {},
   "source": [
    "Because the values of GDP are so high, the tick labels on the y-axis can be a little confusing. You can reformat the values to be in trillions using the code we've put in the cell for you below. Run the code to see the difference."
   ]
  },
  {
   "cell_type": "code",
   "execution_count": null,
   "metadata": {},
   "outputs": [],
   "source": [
    "from matplotlib.ticker import FuncFormatter\n",
    "def trillions(x, pos):\n",
    "    'The two args are the value and tick position'\n",
    "    return '$%1.1fT' % (x*1e-12)\n",
    "\n",
    "formatter = FuncFormatter(trillions)\n",
    "\n",
    "\n",
    "f, ax = plt.subplots(figsize=(15, 6)) \n",
    "ax = sns.pointplot(x=\"Year\", y=\"GDP\", hue = \"Country\", data=gdp)\n",
    "plt.xticks(rotation=70)\n",
    "ax.yaxis.set_major_formatter(formatter)\n"
   ]
  },
  {
   "cell_type": "markdown",
   "metadata": {},
   "source": [
    "What are your first impressions looking at the visualized data?\n",
    "\n",
    "- Which countries' line changes the most?\n",
    "- What years are there the biggest changes in the data?\n",
    "- Which country has had the least change in GDP over time? \n",
    "- Can you think of any reasons that the data looks like this for particular countries?"
   ]
  },
  {
   "cell_type": "code",
   "execution_count": null,
   "metadata": {},
   "outputs": [],
   "source": []
  },
  {
   "cell_type": "markdown",
   "metadata": {},
   "source": [
    "## Step 6"
   ]
  },
  {
   "cell_type": "markdown",
   "metadata": {},
   "source": [
    "To compare GDP and life expectancy over time we also need to plot the life expectancy data. "
   ]
  },
  {
   "cell_type": "markdown",
   "metadata": {},
   "source": [
    "Start again by  setting the variables `f, ax ` equal to `plt.subplots()`. Set the size of the figure to 12x6.\n",
    "\n",
    "Create a point plot from the DataFrame `life`, using the \"Year\" column for the `x` argument, the \"LEABY\" column for the `y` argument, and the \"Country\" column for the `hue` argument. Use the variable `ax` for your plot, like this:\n",
    "```python\n",
    "ax = sns.pointplot()\n",
    "```\n",
    "\n",
    "Set the y-axis label back to \"Life expectancy at birth (years)\" using `ax.set()`."
   ]
  },
  {
   "cell_type": "code",
   "execution_count": null,
   "metadata": {},
   "outputs": [],
   "source": []
  },
  {
   "cell_type": "markdown",
   "metadata": {},
   "source": [
    "What are your first impressions looking at the visualized data?\n",
    "\n",
    "- Which countries' line changes the most?\n",
    "- What years are there the biggest changes in the data?\n",
    "- Which country has had the least change in life expectancy over time? \n",
    "- Can you think of any reasons that the data looks like this for particular countries?"
   ]
  },
  {
   "cell_type": "code",
   "execution_count": null,
   "metadata": {},
   "outputs": [],
   "source": []
  },
  {
   "cell_type": "markdown",
   "metadata": {},
   "source": [
    "## Step 7"
   ]
  },
  {
   "cell_type": "markdown",
   "metadata": {},
   "source": [
    "To create a visualization that will make it easier to see the possible correlation between GDP and life expectancy, you can plot each set of data on its own subplot, on a shared figure.\n",
    "\n",
    "To make this easier, we have created a CSV file that has columns for both GDP and life expectancy for the years 2000-2015.\n",
    "\n",
    "Use `pd.read_csv()` to import the file **combined_data.csv** to a variable named `combined_data`. Then, check the new DataFrame using `.head()`.\n"
   ]
  },
  {
   "cell_type": "code",
   "execution_count": null,
   "metadata": {},
   "outputs": [],
   "source": []
  },
  {
   "cell_type": "markdown",
   "metadata": {},
   "source": [
    "## Step 8"
   ]
  },
  {
   "cell_type": "markdown",
   "metadata": {},
   "source": [
    "Create a figure with two subplots, divided into 2 rows and 1 column. \n",
    "\n",
    "- We have set up the code for you on line 1 in the cell below. Complete the figure by passing the following arguments to `plt.subplots()`\n",
    "    - `2`-- the number of rows for the subplots\n",
    "    - `1` -- the number of columns for the subplots\n",
    "    - `figsize=(15, 15)` -- the size of the figure\n",
    "\n",
    "\n",
    "Use the `combined_data` DataFrame to create point plots for the GDP and Life expectancy over the same 16 years.\n",
    "\n",
    "The code for `pointplot()` will be the same as you have previously used in this project, with the addition of the `ax` argument which can be added after the `data` argument.\n",
    "- Set the `ax` argument for one `pointplot()` to `ax1`, and the other to `ax2`.\n",
    "\n",
    "You can also give each plot a title using\n",
    "- `ax2.set_title(\"\")`\n",
    "- `ax1.set_title(\"\")`"
   ]
  },
  {
   "cell_type": "code",
   "execution_count": null,
   "metadata": {},
   "outputs": [],
   "source": [
    "f, (ax1, ax2) = plt.subplots()\n"
   ]
  },
  {
   "cell_type": "markdown",
   "metadata": {},
   "source": [
    "You may have to look closely to see the GDP difference between Zimbabwe and the Dominican Republic, as they are very similar over this time period. "
   ]
  },
  {
   "cell_type": "markdown",
   "metadata": {},
   "source": [
    "Which countries have the highest and lowest GDP?"
   ]
  },
  {
   "cell_type": "markdown",
   "metadata": {},
   "source": []
  },
  {
   "cell_type": "markdown",
   "metadata": {},
   "source": [
    "Which countries have the highest and lowest life expectancy?"
   ]
  },
  {
   "cell_type": "markdown",
   "metadata": {},
   "source": []
  },
  {
   "cell_type": "markdown",
   "metadata": {},
   "source": [
    "## Step 9"
   ]
  },
  {
   "cell_type": "markdown",
   "metadata": {},
   "source": [
    "### Researching Data Context \n",
    "Based on the visualization, choose one part the data to research a little further so you can add some real world context to the visualization. You can choose anything you like, or use the example question below.\n",
    "\n",
    "What happened in China between 1991-2016 that increased the GDP so drastically?"
   ]
  },
  {
   "cell_type": "code",
   "execution_count": null,
   "metadata": {},
   "outputs": [],
   "source": []
  },
  {
   "cell_type": "markdown",
   "metadata": {},
   "source": [
    "## Step 10"
   ]
  },
  {
   "cell_type": "markdown",
   "metadata": {},
   "source": [
    "Use the content you have created in this Jupyter notebook to create a blog post on this data."
   ]
  },
  {
   "cell_type": "code",
   "execution_count": null,
   "metadata": {},
   "outputs": [],
   "source": []
  }
 ],
 "metadata": {
  "kernelspec": {
   "display_name": "Python 3",
   "language": "python",
   "name": "python3"
  },
  "language_info": {
   "codemirror_mode": {
    "name": "ipython",
    "version": 3
   },
   "file_extension": ".py",
   "mimetype": "text/x-python",
   "name": "python",
   "nbconvert_exporter": "python",
   "pygments_lexer": "ipython3",
   "version": "3.7.3"
  }
 },
 "nbformat": 4,
 "nbformat_minor": 2
}
